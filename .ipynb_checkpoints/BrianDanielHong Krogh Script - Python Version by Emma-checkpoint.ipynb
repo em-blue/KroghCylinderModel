{
 "cells": [
  {
   "cell_type": "code",
   "execution_count": 3,
   "metadata": {},
   "outputs": [],
   "source": [
    "# MATLAB code from https://github.com/briandaniel/KroghCylinderModel\n",
    "# Brian Hong 6-19-19\n",
    "# File determines the equations of the Krogh cylinder model of oxygen\n",
    "# transport used in Mcguire, Secomb (2001)\n",
    "\n",
    "# Adapted to Python by Emma Bluemke 2021\n",
    "\n",
    "import numpy as np\n",
    "from scipy.integrate import odeint"
   ]
  },
  {
   "cell_type": "code",
   "execution_count": 19,
   "metadata": {},
   "outputs": [],
   "source": [
    "# param = value % Units | Description\n",
    "Pb = 100; # Torr | Average partial pressure of oxygen in blood at capillary entrance \n",
    "P50 = 26; # Torr | Half-maximal hemoglobin saturation\n",
    "n = 2.7; # - | Hill equation exponent\n",
    "Cb = 0.2; # cm^3 O_2/cm^3 blood | Oxygen carrying capacity of blood\n",
    "Sh = 2.5; # - | Sherwood number\n",
    "Kpl = 8.3e-10; # (cm^2/s)[cm^3 O_2 /(cm^3*Torr)] | Krogh diffusion constant in plasma\n",
    "\n",
    "# prm.Vbar = 2.25; # mm/s | Average blood flow\n",
    "Vbar = 2.25e-1; # cm/s | Average blood flow\n",
    "# prm.Vbar = 3.49e-1; # cm/s | Average blood flow\n",
    "K = 9.4e-10; # (cm^2/s)[cm^3 O_2 /(cm^3*Torr)] | Krogh diffusion constant in tissue\n",
    "\n",
    "# NOTE: In the text [M0] are is listed as cm^3 *100 cm^3/min, but should be\n",
    "# listed as cm^3/(100 cm^3 * min )\n",
    "# prm.M0 = 40; % cm^3 O_2 (100 cm^3*min) | Oxygen demand \n",
    "M0 = 40/6000; # cm^3 O_2 / ( cm^3*s ) | Oxygen demand\n",
    "\n",
    "P0 = 1; # Torr | Half-maximal oxygen consumption\n",
    "Dmb = 1.73e-7; # cm^2/s | Myoglobin diffusion coefficient\n",
    "Cmb = 3.83e-7; # mol/cm^3 | Concentration of myoglobin\n",
    "P50mb = 3.2; # Torr | Pressure where myoglobin 50% saturated with Oxygen\n",
    "\n",
    "Vm = 2.24e4; # cm^3 | Molar volume\n",
    "Mt = 6.52e-9;# (cm^2/s)[cm^3 O_2 /(cm^3*Torr)] | Mass transfer coef\n",
    "\n",
    "# From the text\n",
    "#Rc = 2.5; # microns | Capillary radius\n",
    "#L = 0.5; # mm | Capillary length\n",
    "#Rt = 26; # microns | Tissue Cylinder radius\n",
    "\n",
    "# Converted to consistent units\n",
    "Rc = 2.5e-4; # cm | Capillary radius\n",
    "L = 0.5e-1; # cm | Capillary length\n",
    "Rt = 26e-4; # cm| Tissue Cylinder radius\n",
    "\n",
    "\n",
    "# Numerical params\n",
    "Nz = 50;\n",
    "Nr = 100;\n"
   ]
  },
  {
   "cell_type": "code",
   "execution_count": 34,
   "metadata": {},
   "outputs": [],
   "source": [
    "def guess(r):\n",
    "    g =(1+r*0, 0*r);\n",
    "    return(g)\n",
    "\n",
    "def diffusionODE_BC(Ya,Yb,Pb,K,Rc):\n",
    "    P_Rc = Ya[0]\n",
    "    dPdr_Rc = Ya[1]\n",
    "    \n",
    "    dPdr_Rt = Yb[1]\n",
    "    \n",
    "    res1 = 2*pi*Rc*K*dPdr_Rc + Mt*(Pb-P_Rc)\n",
    "    res2 = dPdr_Rt;\n",
    "    \n",
    "    res = (res1,res2)\n",
    "    return(res)\n",
    "\n",
    "def diffusionODE(r,Y,P0,M0,K):\n",
    "    #NOTE: Y(1) = P, Y(2) = u, where u is the aux variable u = P'\n",
    "    P = Y[1];\n",
    "    u = Y[2];\n",
    "    K = K; # Brian - why is this here?? Scared to remove - will it break things?\n",
    "     \n",
    "    # Oxygen consumption rate (per unit volume)\n",
    "    MP = M0*(P/(P0+P));\n",
    "\n",
    "    # In this case the derivatve is directly evaluated\n",
    "    dudr = -u/r + 1/K*MP;\n",
    "    dPdr = u;\n",
    "    \n",
    "    dY = (dPdr,dudr);\n",
    "    return(dY)"
   ]
  },
  {
   "cell_type": "code",
   "execution_count": 35,
   "metadata": {},
   "outputs": [
    {
     "ename": "SyntaxError",
     "evalue": "invalid syntax (<ipython-input-35-f99cbfba4b97>, line 18)",
     "output_type": "error",
     "traceback": [
      "\u001b[0;36m  File \u001b[0;32m\"<ipython-input-35-f99cbfba4b97>\"\u001b[0;36m, line \u001b[0;32m18\u001b[0m\n\u001b[0;31m    solinit = bvpinit(r_tissue, @guess ); ### need to replace\u001b[0m\n\u001b[0m                                ^\u001b[0m\n\u001b[0;31mSyntaxError\u001b[0m\u001b[0;31m:\u001b[0m invalid syntax\n"
     ]
    }
   ],
   "source": [
    "z = np.linspace(0,L,Nz)\n",
    "r_tissue = np.linspace(Rc,Rt,Nr)\n",
    "\n",
    "Psltn = np.zeros((Nr,Nz))\n",
    "\n",
    "for k in range(0,Nz):\n",
    "    if k>0:\n",
    "        # compute the integral\n",
    "        MP = M0*(P/(P0 + P))\n",
    "        q = 2*pi*trapz(r,MP*r)\n",
    "        Shbi = (Pb/P50)^n/(1+(Pb/P50)^n)\n",
    "        Ci = Cb*Shbi;\n",
    "        dz = z(k)-z(k-1)\n",
    "        volFlowRate = Vbar*pi*Rc^2\n",
    "        Ciplus1 = Ci-dz*(q/volFlowRate)      \n",
    "        Pb = P50*(Ciplus1/(Cb - Ciplus1))^(1/n)\n",
    "\n",
    "    solinit = bvpinit(r_tissue, @guess ); ### need to replace\n",
    "    #solinit = bvpinit(x,yinit) uses the initial mesh x and initial solution guess yinit \n",
    "    #to form an initial guess of the solution for a boundary value problem. You then can \n",
    "    #use the initial guess solinit as one of the inputs to bvp4c or bvp5c to solve the \n",
    "    #boundary value problem.\n",
    "    \n",
    "    # so I think I need https://docs.scipy.org/doc/scipy/reference/generated/scipy.integrate.solve_bvp.html???\n",
    "\n",
    "    odeFunc = @(r,Y) diffusionODE(r,Y,P0,M0,K); # ### need to replace - output is dY = (dPdr,dudr); \n",
    "    bcFunc = @(ya,yb) diffusionODE_BC(Ya,Yb,Pb,K,Rc); # ### need to replace - output is res = (res1,res2);\n",
    "\n",
    "    sol = bvp4c(odeFunc, bcFunc, solinit ); ### need to replace\n",
    "    #sol = bvp4c(odefun,bcfun,solinit) integrates a system of differential equations \n",
    "    #of the form y′ = f(x,y) specified by odefun, subject to the boundary conditions \n",
    "    #described by bcfun and the initial solution guess solinit. Use the bvpinit function \n",
    "    #to create the initial guess solinit, which also defines the points at which the \n",
    "    #boundary conditions in bcfun are enforced.\n",
    "\n",
    "    P = interp1(sol.x,sol.y(0,:),r_tissue ); ### need to replace\n",
    "    #vq = interp1(x,v,xq) returns interpolated values of a 1-D function at \n",
    "    #specific query points using linear interpolation. Vector x contains \n",
    "    #the sample points, and v contains the corresponding values, v(x). \n",
    "    #Vector xq contains the coordinates of the query points.\n",
    "    r = r_tissue;\n",
    "\n",
    "    Psltn[:,k] = P;\n",
    "\n",
    "    print('Solving step k = ', str(k), '/', str(Nz))\n",
    "\n"
   ]
  },
  {
   "cell_type": "code",
   "execution_count": null,
   "metadata": {},
   "outputs": [],
   "source": [
    "figure('outerposition',[1000,500,500,500])\n",
    "\n",
    "hold on\n",
    "colors = parula(size(Psltn,2));\n",
    "lin = plot(r*1e4,Psltn);\n",
    "set(lin,{'color'},num2cell(colors,2))\n",
    "xlabel('r [\\mu m]')\n",
    "ylabel('P [torr]')\n",
    "set(gca,'xlim',[0,Rt*1e4])\n",
    "set(gca,'ylim',[0,100])\n",
    "\n",
    "\n",
    "figure('outerposition',[1498         458         984         751])\n",
    "set(gcf, 'Renderer', 'opengl');\n",
    "hold on\n",
    "surf(z*1e1,r*1e4,Psltn,repmat(z*1e1,size(Psltn,1),1),'facealpha',1) # what is X,Y,Z here? X=z*1e1, Y=r*1e4, Z=Psltn?\n",
    "view(130,30)\n",
    "ylabel('r [\\mu m]')\n",
    "xlabel('z [mm]')\n",
    "zlabel('P [torr]')\n"
   ]
  },
  {
   "cell_type": "code",
   "execution_count": 8,
   "metadata": {},
   "outputs": [
    {
     "data": {
      "image/png": "[encoded data removed]",
      "text/plain": [
       "<Figure size 432x288 with 2 Axes>"
      ]
     },
     "metadata": {
      "needs_background": "light"
     },
     "output_type": "display_data"
    }
   ],
   "source": [
    "#surface plots in python:\n",
    "\n",
    "# This import registers the 3D projection, but is otherwise unused.\n",
    "from mpl_toolkits.mplot3d import Axes3D  \n",
    "import matplotlib.pyplot as plt\n",
    "from matplotlib import cm\n",
    "from matplotlib.ticker import LinearLocator, FormatStrFormatter\n",
    "\n",
    "fig = plt.figure()\n",
    "ax = fig.gca(projection='3d')\n",
    "\n",
    "# Make data.\n",
    "X = np.arange(-5, 5, 0.25)\n",
    "Y = np.arange(-5, 5, 0.25)\n",
    "X, Y = np.meshgrid(X, Y)\n",
    "R = np.sqrt(X**2 + Y**2)\n",
    "Z = np.sin(R)\n",
    "\n",
    "# Plot the surface.\n",
    "surf = ax.plot_surface(X, Y, Z, cmap=cm.cool,\n",
    "                       linewidth=0, antialiased=False)\n",
    "\n",
    "# Customize the z axis.\n",
    "ax.set_zlim(-1.01, 1.01)\n",
    "ax.zaxis.set_major_locator(LinearLocator(10))\n",
    "ax.zaxis.set_major_formatter(FormatStrFormatter('%.02f'))\n",
    "\n",
    "# Add a color bar which maps values to colors.\n",
    "fig.colorbar(surf, shrink=0.5, aspect=5)\n",
    "\n",
    "plt.show()"
   ]
  },
  {
   "cell_type": "code",
   "execution_count": null,
   "metadata": {},
   "outputs": [],
   "source": []
  },
  {
   "cell_type": "code",
   "execution_count": null,
   "metadata": {},
   "outputs": [],
   "source": []
  },
  {
   "cell_type": "code",
   "execution_count": null,
   "metadata": {},
   "outputs": [],
   "source": []
  }
 ],
 "metadata": {
  "kernelspec": {
   "display_name": "Python 3",
   "language": "python",
   "name": "python3"
  },
  "language_info": {
   "codemirror_mode": {
    "name": "ipython",
    "version": 3
   },
   "file_extension": ".py",
   "mimetype": "text/x-python",
   "name": "python",
   "nbconvert_exporter": "python",
   "pygments_lexer": "ipython3",
   "version": "3.8.3"
  }
 },
 "nbformat": 4,
 "nbformat_minor": 4
}
